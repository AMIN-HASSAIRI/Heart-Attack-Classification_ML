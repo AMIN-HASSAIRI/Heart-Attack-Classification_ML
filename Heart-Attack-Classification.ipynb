{
  "nbformat": 4,
  "nbformat_minor": 0,
  "metadata": {
    "colab": {
      "name": "WXZ8SX_Amin_Hassairi_PW.ipynb",
      "provenance": [],
      "collapsed_sections": []
    },
    "kernelspec": {
      "name": "python3",
      "display_name": "Python 3"
    },
    "language_info": {
      "name": "python"
    }
  },
  "cells": [
    {
      "cell_type": "markdown",
      "source": [
        "**WXZ8SX_Amin_Hassairi_IntSysProject_HEART_ATTACK_CLASSIFICATION**\n",
        "\n",
        "---\n",
        "---\n",
        "\n"
      ],
      "metadata": {
        "id": "hejZTKJmo_HJ"
      }
    },
    {
      "cell_type": "markdown",
      "source": [
        "We are classifying the dataset of people into two categories in such a way: People who have heart attack possibility and others does not have.                                                                         \n",
        "\n",
        "The \"target\" field refers to the presence of heart disease in the patient. It is integer valued 0 = no/less chance of heart attack and 1 = more chance of heart attack\n"
      ],
      "metadata": {
        "id": "JORm0Oq8pVS1"
      }
    },
    {
      "cell_type": "markdown",
      "source": [
        "Attribute Information:\n",
        "\n",
        "1) age\n",
        "\n",
        "2) sex\n",
        "\n",
        "3) chest pain type (4 values)\n",
        "\n",
        "4) resting blood pressure\n",
        "\n",
        "5) serum cholestoral in mg/dl\n",
        "\n",
        "6)fasting blood sugar > 120 mg/dl\n",
        "\n",
        "7) resting electrocardiographic results (values 0,1,2)\n",
        "\n",
        "8) maximum heart rate achieved\n",
        "\n",
        "9) exercise induced angina\n",
        "\n",
        "10) oldpeak = ST depression induced by exercise relative to rest\n",
        "\n",
        "11)the slope of the peak exercise ST segment\n",
        "\n",
        "12) number of major vessels (0-3) colored by flourosopy\n",
        "\n",
        "13) thal: 0 = normal; 1 = fixed defect; 2 = reversable defect\n",
        "\n",
        "14) target: 0= less chance of heart attack 1= more chance of heart attack"
      ],
      "metadata": {
        "id": "qnE-4RpxzP0q"
      }
    },
    {
      "cell_type": "markdown",
      "source": [
        "Importing the libraries for the classification\n"
      ],
      "metadata": {
        "id": "ahgeF4QvuaEj"
      }
    },
    {
      "cell_type": "code",
      "execution_count": null,
      "metadata": {
        "id": "44fd_zvZoX71"
      },
      "outputs": [],
      "source": [
        "import pandas as pd\n",
        "import numpy as np\n",
        "from sklearn.model_selection import train_test_split\n",
        "from sklearn.neural_network import MLPClassifier\n",
        "from sklearn.metrics import accuracy_score\n",
        "from sklearn.metrics import precision_score\n",
        "from sklearn.metrics import recall_score\n",
        "from sklearn.metrics import f1_score\n",
        "from sklearn.metrics import confusion_matrix\n",
        "from sklearn.metrics import classification_report"
      ]
    },
    {
      "cell_type": "markdown",
      "source": [
        "Importing the dataset"
      ],
      "metadata": {
        "id": "mimJJg3wuy3l"
      }
    },
    {
      "cell_type": "code",
      "source": [
        "dataset = pd.read_csv(\"/content/heart.csv\")\n",
        "print(dataset)"
      ],
      "metadata": {
        "colab": {
          "base_uri": "https://localhost:8080/"
        },
        "id": "pJ1L4q2uvC-B",
        "outputId": "34744c9e-6137-4980-8f7c-25729fb6f0c8"
      },
      "execution_count": null,
      "outputs": [
        {
          "output_type": "stream",
          "name": "stdout",
          "text": [
            "     age  sex  cp  trestbps  chol  fbs  restecg  thalach  exang  oldpeak  \\\n",
            "0     63    1   3       145   233    1        0      150      0      2.3   \n",
            "1     37    1   2       130   250    0        1      187      0      3.5   \n",
            "2     41    0   1       130   204    0        0      172      0      1.4   \n",
            "3     56    1   1       120   236    0        1      178      0      0.8   \n",
            "4     57    0   0       120   354    0        1      163      1      0.6   \n",
            "..   ...  ...  ..       ...   ...  ...      ...      ...    ...      ...   \n",
            "298   57    0   0       140   241    0        1      123      1      0.2   \n",
            "299   45    1   3       110   264    0        1      132      0      1.2   \n",
            "300   68    1   0       144   193    1        1      141      0      3.4   \n",
            "301   57    1   0       130   131    0        1      115      1      1.2   \n",
            "302   57    0   1       130   236    0        0      174      0      0.0   \n",
            "\n",
            "     slope  ca  thal  target  \n",
            "0        0   0     1       1  \n",
            "1        0   0     2       1  \n",
            "2        2   0     2       1  \n",
            "3        2   0     2       1  \n",
            "4        2   0     2       1  \n",
            "..     ...  ..   ...     ...  \n",
            "298      1   0     3       0  \n",
            "299      1   0     3       0  \n",
            "300      1   2     3       0  \n",
            "301      1   1     3       0  \n",
            "302      1   1     2       0  \n",
            "\n",
            "[303 rows x 14 columns]\n"
          ]
        }
      ]
    },
    {
      "cell_type": "markdown",
      "source": [
        "Describing the dataset"
      ],
      "metadata": {
        "id": "_pFTV8Hpy5oA"
      }
    },
    {
      "cell_type": "code",
      "source": [
        "dataset.shape"
      ],
      "metadata": {
        "colab": {
          "base_uri": "https://localhost:8080/"
        },
        "id": "DRb9bI1Iyre4",
        "outputId": "451298f3-c2c0-4680-f69d-0825df091084"
      },
      "execution_count": null,
      "outputs": [
        {
          "output_type": "execute_result",
          "data": {
            "text/plain": [
              "(303, 14)"
            ]
          },
          "metadata": {},
          "execution_count": 13
        }
      ]
    },
    {
      "cell_type": "code",
      "source": [
        "dataset.describe()"
      ],
      "metadata": {
        "colab": {
          "base_uri": "https://localhost:8080/",
          "height": 300
        },
        "id": "YTgZ9b9MytAn",
        "outputId": "aff1f2ec-1fff-4b25-9ab4-76e8d74bea27"
      },
      "execution_count": null,
      "outputs": [
        {
          "output_type": "execute_result",
          "data": {
            "text/plain": [
              "              age         sex          cp    trestbps        chol         fbs  \\\n",
              "count  303.000000  303.000000  303.000000  303.000000  303.000000  303.000000   \n",
              "mean    54.366337    0.683168    0.966997  131.623762  246.264026    0.148515   \n",
              "std      9.082101    0.466011    1.032052   17.538143   51.830751    0.356198   \n",
              "min     29.000000    0.000000    0.000000   94.000000  126.000000    0.000000   \n",
              "25%     47.500000    0.000000    0.000000  120.000000  211.000000    0.000000   \n",
              "50%     55.000000    1.000000    1.000000  130.000000  240.000000    0.000000   \n",
              "75%     61.000000    1.000000    2.000000  140.000000  274.500000    0.000000   \n",
              "max     77.000000    1.000000    3.000000  200.000000  564.000000    1.000000   \n",
              "\n",
              "          restecg     thalach       exang     oldpeak       slope          ca  \\\n",
              "count  303.000000  303.000000  303.000000  303.000000  303.000000  303.000000   \n",
              "mean     0.528053  149.646865    0.326733    1.039604    1.399340    0.729373   \n",
              "std      0.525860   22.905161    0.469794    1.161075    0.616226    1.022606   \n",
              "min      0.000000   71.000000    0.000000    0.000000    0.000000    0.000000   \n",
              "25%      0.000000  133.500000    0.000000    0.000000    1.000000    0.000000   \n",
              "50%      1.000000  153.000000    0.000000    0.800000    1.000000    0.000000   \n",
              "75%      1.000000  166.000000    1.000000    1.600000    2.000000    1.000000   \n",
              "max      2.000000  202.000000    1.000000    6.200000    2.000000    4.000000   \n",
              "\n",
              "             thal      target  \n",
              "count  303.000000  303.000000  \n",
              "mean     2.313531    0.544554  \n",
              "std      0.612277    0.498835  \n",
              "min      0.000000    0.000000  \n",
              "25%      2.000000    0.000000  \n",
              "50%      2.000000    1.000000  \n",
              "75%      3.000000    1.000000  \n",
              "max      3.000000    1.000000  "
            ],
            "text/html": [
              "\n",
              "  <div id=\"df-f97bfb72-8e79-4862-8412-a3f9cd38dcae\">\n",
              "    <div class=\"colab-df-container\">\n",
              "      <div>\n",
              "<style scoped>\n",
              "    .dataframe tbody tr th:only-of-type {\n",
              "        vertical-align: middle;\n",
              "    }\n",
              "\n",
              "    .dataframe tbody tr th {\n",
              "        vertical-align: top;\n",
              "    }\n",
              "\n",
              "    .dataframe thead th {\n",
              "        text-align: right;\n",
              "    }\n",
              "</style>\n",
              "<table border=\"1\" class=\"dataframe\">\n",
              "  <thead>\n",
              "    <tr style=\"text-align: right;\">\n",
              "      <th></th>\n",
              "      <th>age</th>\n",
              "      <th>sex</th>\n",
              "      <th>cp</th>\n",
              "      <th>trestbps</th>\n",
              "      <th>chol</th>\n",
              "      <th>fbs</th>\n",
              "      <th>restecg</th>\n",
              "      <th>thalach</th>\n",
              "      <th>exang</th>\n",
              "      <th>oldpeak</th>\n",
              "      <th>slope</th>\n",
              "      <th>ca</th>\n",
              "      <th>thal</th>\n",
              "      <th>target</th>\n",
              "    </tr>\n",
              "  </thead>\n",
              "  <tbody>\n",
              "    <tr>\n",
              "      <th>count</th>\n",
              "      <td>303.000000</td>\n",
              "      <td>303.000000</td>\n",
              "      <td>303.000000</td>\n",
              "      <td>303.000000</td>\n",
              "      <td>303.000000</td>\n",
              "      <td>303.000000</td>\n",
              "      <td>303.000000</td>\n",
              "      <td>303.000000</td>\n",
              "      <td>303.000000</td>\n",
              "      <td>303.000000</td>\n",
              "      <td>303.000000</td>\n",
              "      <td>303.000000</td>\n",
              "      <td>303.000000</td>\n",
              "      <td>303.000000</td>\n",
              "    </tr>\n",
              "    <tr>\n",
              "      <th>mean</th>\n",
              "      <td>54.366337</td>\n",
              "      <td>0.683168</td>\n",
              "      <td>0.966997</td>\n",
              "      <td>131.623762</td>\n",
              "      <td>246.264026</td>\n",
              "      <td>0.148515</td>\n",
              "      <td>0.528053</td>\n",
              "      <td>149.646865</td>\n",
              "      <td>0.326733</td>\n",
              "      <td>1.039604</td>\n",
              "      <td>1.399340</td>\n",
              "      <td>0.729373</td>\n",
              "      <td>2.313531</td>\n",
              "      <td>0.544554</td>\n",
              "    </tr>\n",
              "    <tr>\n",
              "      <th>std</th>\n",
              "      <td>9.082101</td>\n",
              "      <td>0.466011</td>\n",
              "      <td>1.032052</td>\n",
              "      <td>17.538143</td>\n",
              "      <td>51.830751</td>\n",
              "      <td>0.356198</td>\n",
              "      <td>0.525860</td>\n",
              "      <td>22.905161</td>\n",
              "      <td>0.469794</td>\n",
              "      <td>1.161075</td>\n",
              "      <td>0.616226</td>\n",
              "      <td>1.022606</td>\n",
              "      <td>0.612277</td>\n",
              "      <td>0.498835</td>\n",
              "    </tr>\n",
              "    <tr>\n",
              "      <th>min</th>\n",
              "      <td>29.000000</td>\n",
              "      <td>0.000000</td>\n",
              "      <td>0.000000</td>\n",
              "      <td>94.000000</td>\n",
              "      <td>126.000000</td>\n",
              "      <td>0.000000</td>\n",
              "      <td>0.000000</td>\n",
              "      <td>71.000000</td>\n",
              "      <td>0.000000</td>\n",
              "      <td>0.000000</td>\n",
              "      <td>0.000000</td>\n",
              "      <td>0.000000</td>\n",
              "      <td>0.000000</td>\n",
              "      <td>0.000000</td>\n",
              "    </tr>\n",
              "    <tr>\n",
              "      <th>25%</th>\n",
              "      <td>47.500000</td>\n",
              "      <td>0.000000</td>\n",
              "      <td>0.000000</td>\n",
              "      <td>120.000000</td>\n",
              "      <td>211.000000</td>\n",
              "      <td>0.000000</td>\n",
              "      <td>0.000000</td>\n",
              "      <td>133.500000</td>\n",
              "      <td>0.000000</td>\n",
              "      <td>0.000000</td>\n",
              "      <td>1.000000</td>\n",
              "      <td>0.000000</td>\n",
              "      <td>2.000000</td>\n",
              "      <td>0.000000</td>\n",
              "    </tr>\n",
              "    <tr>\n",
              "      <th>50%</th>\n",
              "      <td>55.000000</td>\n",
              "      <td>1.000000</td>\n",
              "      <td>1.000000</td>\n",
              "      <td>130.000000</td>\n",
              "      <td>240.000000</td>\n",
              "      <td>0.000000</td>\n",
              "      <td>1.000000</td>\n",
              "      <td>153.000000</td>\n",
              "      <td>0.000000</td>\n",
              "      <td>0.800000</td>\n",
              "      <td>1.000000</td>\n",
              "      <td>0.000000</td>\n",
              "      <td>2.000000</td>\n",
              "      <td>1.000000</td>\n",
              "    </tr>\n",
              "    <tr>\n",
              "      <th>75%</th>\n",
              "      <td>61.000000</td>\n",
              "      <td>1.000000</td>\n",
              "      <td>2.000000</td>\n",
              "      <td>140.000000</td>\n",
              "      <td>274.500000</td>\n",
              "      <td>0.000000</td>\n",
              "      <td>1.000000</td>\n",
              "      <td>166.000000</td>\n",
              "      <td>1.000000</td>\n",
              "      <td>1.600000</td>\n",
              "      <td>2.000000</td>\n",
              "      <td>1.000000</td>\n",
              "      <td>3.000000</td>\n",
              "      <td>1.000000</td>\n",
              "    </tr>\n",
              "    <tr>\n",
              "      <th>max</th>\n",
              "      <td>77.000000</td>\n",
              "      <td>1.000000</td>\n",
              "      <td>3.000000</td>\n",
              "      <td>200.000000</td>\n",
              "      <td>564.000000</td>\n",
              "      <td>1.000000</td>\n",
              "      <td>2.000000</td>\n",
              "      <td>202.000000</td>\n",
              "      <td>1.000000</td>\n",
              "      <td>6.200000</td>\n",
              "      <td>2.000000</td>\n",
              "      <td>4.000000</td>\n",
              "      <td>3.000000</td>\n",
              "      <td>1.000000</td>\n",
              "    </tr>\n",
              "  </tbody>\n",
              "</table>\n",
              "</div>\n",
              "      <button class=\"colab-df-convert\" onclick=\"convertToInteractive('df-f97bfb72-8e79-4862-8412-a3f9cd38dcae')\"\n",
              "              title=\"Convert this dataframe to an interactive table.\"\n",
              "              style=\"display:none;\">\n",
              "        \n",
              "  <svg xmlns=\"http://www.w3.org/2000/svg\" height=\"24px\"viewBox=\"0 0 24 24\"\n",
              "       width=\"24px\">\n",
              "    <path d=\"M0 0h24v24H0V0z\" fill=\"none\"/>\n",
              "    <path d=\"M18.56 5.44l.94 2.06.94-2.06 2.06-.94-2.06-.94-.94-2.06-.94 2.06-2.06.94zm-11 1L8.5 8.5l.94-2.06 2.06-.94-2.06-.94L8.5 2.5l-.94 2.06-2.06.94zm10 10l.94 2.06.94-2.06 2.06-.94-2.06-.94-.94-2.06-.94 2.06-2.06.94z\"/><path d=\"M17.41 7.96l-1.37-1.37c-.4-.4-.92-.59-1.43-.59-.52 0-1.04.2-1.43.59L10.3 9.45l-7.72 7.72c-.78.78-.78 2.05 0 2.83L4 21.41c.39.39.9.59 1.41.59.51 0 1.02-.2 1.41-.59l7.78-7.78 2.81-2.81c.8-.78.8-2.07 0-2.86zM5.41 20L4 18.59l7.72-7.72 1.47 1.35L5.41 20z\"/>\n",
              "  </svg>\n",
              "      </button>\n",
              "      \n",
              "  <style>\n",
              "    .colab-df-container {\n",
              "      display:flex;\n",
              "      flex-wrap:wrap;\n",
              "      gap: 12px;\n",
              "    }\n",
              "\n",
              "    .colab-df-convert {\n",
              "      background-color: #E8F0FE;\n",
              "      border: none;\n",
              "      border-radius: 50%;\n",
              "      cursor: pointer;\n",
              "      display: none;\n",
              "      fill: #1967D2;\n",
              "      height: 32px;\n",
              "      padding: 0 0 0 0;\n",
              "      width: 32px;\n",
              "    }\n",
              "\n",
              "    .colab-df-convert:hover {\n",
              "      background-color: #E2EBFA;\n",
              "      box-shadow: 0px 1px 2px rgba(60, 64, 67, 0.3), 0px 1px 3px 1px rgba(60, 64, 67, 0.15);\n",
              "      fill: #174EA6;\n",
              "    }\n",
              "\n",
              "    [theme=dark] .colab-df-convert {\n",
              "      background-color: #3B4455;\n",
              "      fill: #D2E3FC;\n",
              "    }\n",
              "\n",
              "    [theme=dark] .colab-df-convert:hover {\n",
              "      background-color: #434B5C;\n",
              "      box-shadow: 0px 1px 3px 1px rgba(0, 0, 0, 0.15);\n",
              "      filter: drop-shadow(0px 1px 2px rgba(0, 0, 0, 0.3));\n",
              "      fill: #FFFFFF;\n",
              "    }\n",
              "  </style>\n",
              "\n",
              "      <script>\n",
              "        const buttonEl =\n",
              "          document.querySelector('#df-f97bfb72-8e79-4862-8412-a3f9cd38dcae button.colab-df-convert');\n",
              "        buttonEl.style.display =\n",
              "          google.colab.kernel.accessAllowed ? 'block' : 'none';\n",
              "\n",
              "        async function convertToInteractive(key) {\n",
              "          const element = document.querySelector('#df-f97bfb72-8e79-4862-8412-a3f9cd38dcae');\n",
              "          const dataTable =\n",
              "            await google.colab.kernel.invokeFunction('convertToInteractive',\n",
              "                                                     [key], {});\n",
              "          if (!dataTable) return;\n",
              "\n",
              "          const docLinkHtml = 'Like what you see? Visit the ' +\n",
              "            '<a target=\"_blank\" href=https://colab.research.google.com/notebooks/data_table.ipynb>data table notebook</a>'\n",
              "            + ' to learn more about interactive tables.';\n",
              "          element.innerHTML = '';\n",
              "          dataTable['output_type'] = 'display_data';\n",
              "          await google.colab.output.renderOutput(dataTable, element);\n",
              "          const docLink = document.createElement('div');\n",
              "          docLink.innerHTML = docLinkHtml;\n",
              "          element.appendChild(docLink);\n",
              "        }\n",
              "      </script>\n",
              "    </div>\n",
              "  </div>\n",
              "  "
            ]
          },
          "metadata": {},
          "execution_count": 14
        }
      ]
    },
    {
      "cell_type": "markdown",
      "source": [
        "Setting X and y."
      ],
      "metadata": {
        "id": "9z0Chjl42CaT"
      }
    },
    {
      "cell_type": "code",
      "source": [
        "X = dataset[['target']]\n",
        "y = dataset['target']\n",
        "\n",
        "print(X.head(5))\n",
        "print(y.head(5))"
      ],
      "metadata": {
        "colab": {
          "base_uri": "https://localhost:8080/"
        },
        "id": "MUMi7kuy1oiB",
        "outputId": "5db7dfdc-eb41-43d3-df7c-b4d81616514c"
      },
      "execution_count": null,
      "outputs": [
        {
          "output_type": "stream",
          "name": "stdout",
          "text": [
            "   target\n",
            "0       1\n",
            "1       1\n",
            "2       1\n",
            "3       1\n",
            "4       1\n",
            "0    1\n",
            "1    1\n",
            "2    1\n",
            "3    1\n",
            "4    1\n",
            "Name: target, dtype: int64\n"
          ]
        }
      ]
    },
    {
      "cell_type": "markdown",
      "source": [
        "Splitting the dataset into two parts. Training set and test set."
      ],
      "metadata": {
        "id": "UXGQ_ZSu2Jwl"
      }
    },
    {
      "cell_type": "code",
      "source": [
        "X_train, X_test, y_train, y_test = train_test_split(X, y,test_size=0.2,random_state=15)\n",
        "print(X_train.shape)\n",
        "print(y_test.shape)"
      ],
      "metadata": {
        "colab": {
          "base_uri": "https://localhost:8080/"
        },
        "id": "_1xEak5zyyK-",
        "outputId": "2cf15029-6a0a-46e8-d1c8-3e5cb7fa9a88"
      },
      "execution_count": null,
      "outputs": [
        {
          "output_type": "stream",
          "name": "stdout",
          "text": [
            "(242, 1)\n",
            "(61,)\n"
          ]
        }
      ]
    },
    {
      "cell_type": "markdown",
      "source": [
        "## **1st MLP**"
      ],
      "metadata": {
        "id": "-8OL13Uu7Giq"
      }
    },
    {
      "cell_type": "markdown",
      "source": [
        "The first model has the following hidden layers sizes (2, 10, 2) \n",
        "\n",
        "---\n",
        "\n"
      ],
      "metadata": {
        "id": "mbXSHsO80p35"
      }
    },
    {
      "cell_type": "code",
      "source": [
        "mlp =  MLPClassifier(hidden_layer_sizes=(2,10,2), max_iter=200, alpha=1e-4,\n",
        "                    solver='sgd', verbose=10,activation='relu', random_state=1,\n",
        "                    learning_rate_init=.1)\n",
        "\n",
        "mlp.fit(X_train,y_train)\n",
        "\n",
        "print(\"Training set score: %f\" % mlp.score(X_train, y_train))\n",
        "print(\"Test set score: %f\" % mlp.score(X_test, y_test))\n",
        "\n",
        "y_pre = mlp.predict(X_test)\n",
        "\n",
        "accuracy = accuracy_score(y_test, y_pre)\n",
        "print('Accuracy: %f' % accuracy)\n",
        "for i in np.unique(y_test):\n",
        "    ytest = []\n",
        "    ypre = []\n",
        "    for y in y_test:\n",
        "        if (y == i):\n",
        "            ytest.append(1)\n",
        "        else:\n",
        "            ytest.append(0)\n",
        "    for y in y_pre:\n",
        "        if (y == i):\n",
        "            ypre.append(1)\n",
        "        else:\n",
        "            ypre.append(0)\n",
        "\n",
        "\n",
        "#precision tp / (tp + fp)\n",
        "precision = precision_score(ytest, ypre)\n",
        "print(str(i) + ' Precision: %f' % precision)\n",
        "# recall: tp / (tp + fn)\n",
        "recall = recall_score(ytest, ypre)\n",
        "print(str(i)+' Recall: %f' % recall)\n",
        "# f1: 2 tp / (2 tp + fp + fn)\n",
        "f1 = f1_score(ytest, ypre)\n",
        "print(str(i) + ' F1 score: %f' % f1)\n",
        "matrix = confusion_matrix(y_test, y_pre)\n",
        "print(matrix)\n",
        "\n",
        "print(classification_report(y_test,y_pre))"
      ],
      "metadata": {
        "colab": {
          "base_uri": "https://localhost:8080/"
        },
        "id": "o6blTSjx42aD",
        "outputId": "c81a4e55-8c9f-4c37-fd84-1d8a539d5a38"
      },
      "execution_count": null,
      "outputs": [
        {
          "output_type": "stream",
          "name": "stdout",
          "text": [
            "Iteration 1, loss = 0.68965380\n",
            "Iteration 2, loss = 0.68959611\n",
            "Iteration 3, loss = 0.68947107\n",
            "Iteration 4, loss = 0.68930953\n",
            "Iteration 5, loss = 0.68919903\n",
            "Iteration 6, loss = 0.68916282\n",
            "Iteration 7, loss = 0.68912152\n",
            "Iteration 8, loss = 0.68911290\n",
            "Iteration 9, loss = 0.68907998\n",
            "Iteration 10, loss = 0.68903996\n",
            "Iteration 11, loss = 0.68902662\n",
            "Iteration 12, loss = 0.68901936\n",
            "Iteration 13, loss = 0.68901105\n",
            "Iteration 14, loss = 0.68901010\n",
            "Iteration 15, loss = 0.68902095\n",
            "Iteration 16, loss = 0.68909260\n",
            "Training loss did not improve more than tol=0.000100 for 10 consecutive epochs. Stopping.\n",
            "Training set score: 0.545455\n",
            "Test set score: 0.540984\n",
            "Accuracy: 0.540984\n",
            "1 Precision: 0.540984\n",
            "1 Recall: 1.000000\n",
            "1 F1 score: 0.702128\n",
            "[[ 0 28]\n",
            " [ 0 33]]\n",
            "              precision    recall  f1-score   support\n",
            "\n",
            "           0       0.00      0.00      0.00        28\n",
            "           1       0.54      1.00      0.70        33\n",
            "\n",
            "    accuracy                           0.54        61\n",
            "   macro avg       0.27      0.50      0.35        61\n",
            "weighted avg       0.29      0.54      0.38        61\n",
            "\n"
          ]
        },
        {
          "output_type": "stream",
          "name": "stderr",
          "text": [
            "/usr/local/lib/python3.7/dist-packages/sklearn/metrics/_classification.py:1318: UndefinedMetricWarning: Precision and F-score are ill-defined and being set to 0.0 in labels with no predicted samples. Use `zero_division` parameter to control this behavior.\n",
            "  _warn_prf(average, modifier, msg_start, len(result))\n",
            "/usr/local/lib/python3.7/dist-packages/sklearn/metrics/_classification.py:1318: UndefinedMetricWarning: Precision and F-score are ill-defined and being set to 0.0 in labels with no predicted samples. Use `zero_division` parameter to control this behavior.\n",
            "  _warn_prf(average, modifier, msg_start, len(result))\n",
            "/usr/local/lib/python3.7/dist-packages/sklearn/metrics/_classification.py:1318: UndefinedMetricWarning: Precision and F-score are ill-defined and being set to 0.0 in labels with no predicted samples. Use `zero_division` parameter to control this behavior.\n",
            "  _warn_prf(average, modifier, msg_start, len(result))\n"
          ]
        }
      ]
    },
    {
      "cell_type": "markdown",
      "source": [
        "## **2nd MLP**"
      ],
      "metadata": {
        "id": "LBsTWiV67cfd"
      }
    },
    {
      "cell_type": "markdown",
      "source": [
        "The second model has the following hidden layers sizes (5, 20, 5) \n",
        "\n",
        "---\n",
        "\n"
      ],
      "metadata": {
        "id": "qzXc8Iqn1CAF"
      }
    },
    {
      "cell_type": "code",
      "source": [
        "mlp =  MLPClassifier(hidden_layer_sizes=(5,20,5), max_iter=200, alpha=1e-4,\n",
        "                    solver='sgd', verbose=10,activation='relu', random_state=1,\n",
        "                    learning_rate_init=.1)\n",
        "\n",
        "mlp.fit(X_train,y_train)\n",
        "\n",
        "print(\"Training set score: %f\" % mlp.score(X_train, y_train))\n",
        "print(\"Test set score: %f\" % mlp.score(X_test, y_test))\n",
        "\n",
        "y_pre = mlp.predict(X_test)\n",
        "\n",
        "accuracy = accuracy_score(y_test, y_pre)\n",
        "print('Accuracy: %f' % accuracy)\n",
        "for i in np.unique(y_test):\n",
        "    ytest = []\n",
        "    ypre = []\n",
        "    for y in y_test:\n",
        "        if (y == i):\n",
        "            ytest.append(1)\n",
        "        else:\n",
        "            ytest.append(0)\n",
        "    for y in y_pre:\n",
        "        if (y == i):\n",
        "            ypre.append(1)\n",
        "        else:\n",
        "            ypre.append(0)\n",
        "\n",
        "\n",
        "#precision tp / (tp + fp)\n",
        "precision = precision_score(ytest, ypre)\n",
        "print(str(i) + ' Precision: %f' % precision)\n",
        "# recall: tp / (tp + fn)\n",
        "recall = recall_score(ytest, ypre)\n",
        "print(str(i)+' Recall: %f' % recall)\n",
        "# f1: 2 tp / (2 tp + fp + fn)\n",
        "f1 = f1_score(ytest, ypre)\n",
        "print(str(i) + ' F1 score: %f' % f1)\n",
        "matrix = confusion_matrix(y_test, y_pre)\n",
        "print(matrix)\n",
        "\n",
        "print(classification_report(y_test,y_pre))"
      ],
      "metadata": {
        "colab": {
          "base_uri": "https://localhost:8080/"
        },
        "id": "u12JXDId7bML",
        "outputId": "9406359b-dfe2-4215-cbd7-04a8f40bdbff"
      },
      "execution_count": null,
      "outputs": [
        {
          "output_type": "stream",
          "name": "stdout",
          "text": [
            "Iteration 1, loss = 0.71543106\n",
            "Iteration 2, loss = 0.70696692\n",
            "Iteration 3, loss = 0.69793483\n",
            "Iteration 4, loss = 0.69099685\n",
            "Iteration 5, loss = 0.69043740\n",
            "Iteration 6, loss = 0.69148304\n",
            "Iteration 7, loss = 0.69296249\n",
            "Iteration 8, loss = 0.69519286\n",
            "Iteration 9, loss = 0.69605438\n",
            "Iteration 10, loss = 0.69444552\n",
            "Iteration 11, loss = 0.69276652\n",
            "Iteration 12, loss = 0.69058689\n",
            "Iteration 13, loss = 0.68963017\n",
            "Iteration 14, loss = 0.68883755\n",
            "Iteration 15, loss = 0.68937010\n",
            "Iteration 16, loss = 0.68986615\n",
            "Iteration 17, loss = 0.69008201\n",
            "Iteration 18, loss = 0.69064675\n",
            "Iteration 19, loss = 0.68971402\n",
            "Iteration 20, loss = 0.68900649\n",
            "Iteration 21, loss = 0.68937858\n",
            "Iteration 22, loss = 0.68948688\n",
            "Iteration 23, loss = 0.68966694\n",
            "Iteration 24, loss = 0.68956719\n",
            "Iteration 25, loss = 0.68943674\n",
            "Training loss did not improve more than tol=0.000100 for 10 consecutive epochs. Stopping.\n",
            "Training set score: 0.545455\n",
            "Test set score: 0.540984\n",
            "Accuracy: 0.540984\n",
            "1 Precision: 0.540984\n",
            "1 Recall: 1.000000\n",
            "1 F1 score: 0.702128\n",
            "[[ 0 28]\n",
            " [ 0 33]]\n",
            "              precision    recall  f1-score   support\n",
            "\n",
            "           0       0.00      0.00      0.00        28\n",
            "           1       0.54      1.00      0.70        33\n",
            "\n",
            "    accuracy                           0.54        61\n",
            "   macro avg       0.27      0.50      0.35        61\n",
            "weighted avg       0.29      0.54      0.38        61\n",
            "\n"
          ]
        },
        {
          "output_type": "stream",
          "name": "stderr",
          "text": [
            "/usr/local/lib/python3.7/dist-packages/sklearn/metrics/_classification.py:1318: UndefinedMetricWarning: Precision and F-score are ill-defined and being set to 0.0 in labels with no predicted samples. Use `zero_division` parameter to control this behavior.\n",
            "  _warn_prf(average, modifier, msg_start, len(result))\n",
            "/usr/local/lib/python3.7/dist-packages/sklearn/metrics/_classification.py:1318: UndefinedMetricWarning: Precision and F-score are ill-defined and being set to 0.0 in labels with no predicted samples. Use `zero_division` parameter to control this behavior.\n",
            "  _warn_prf(average, modifier, msg_start, len(result))\n",
            "/usr/local/lib/python3.7/dist-packages/sklearn/metrics/_classification.py:1318: UndefinedMetricWarning: Precision and F-score are ill-defined and being set to 0.0 in labels with no predicted samples. Use `zero_division` parameter to control this behavior.\n",
            "  _warn_prf(average, modifier, msg_start, len(result))\n"
          ]
        }
      ]
    },
    {
      "cell_type": "markdown",
      "source": [
        "## **3rd MLP (The Perfect One)** "
      ],
      "metadata": {
        "id": "jcRs6qjG7xaf"
      }
    },
    {
      "cell_type": "markdown",
      "source": [
        "The third model has the following hidden layers sizes (50, 100, 50) \n",
        "\n",
        "---\n",
        "\n"
      ],
      "metadata": {
        "id": "pOP8TUGh1PYp"
      }
    },
    {
      "cell_type": "code",
      "source": [
        "mlp =  MLPClassifier(hidden_layer_sizes=(50,100,50), max_iter=200, alpha=1e-4,\n",
        "                    solver='sgd', verbose=10,activation='relu', random_state=1,\n",
        "                    learning_rate_init=.1)\n",
        "\n",
        "mlp.fit(X_train,y_train)\n",
        "\n",
        "print(\"Training set score: %f\" % mlp.score(X_train, y_train))\n",
        "print(\"Test set score: %f\" % mlp.score(X_test, y_test))\n",
        "\n",
        "y_pre = mlp.predict(X_test)\n",
        "\n",
        "accuracy = accuracy_score(y_test, y_pre)\n",
        "print('Accuracy: %f' % accuracy)\n",
        "for i in np.unique(y_test):\n",
        "    ytest = []\n",
        "    ypre = []\n",
        "    for y in y_test:\n",
        "        if (y == i):\n",
        "            ytest.append(1)\n",
        "        else:\n",
        "            ytest.append(0)\n",
        "    for y in y_pre:\n",
        "        if (y == i):\n",
        "            ypre.append(1)\n",
        "        else:\n",
        "            ypre.append(0)\n",
        "\n",
        "\n",
        "#precision tp / (tp + fp)\n",
        "precision = precision_score(ytest, ypre)\n",
        "print(str(i) + ' Precision: %f' % precision)\n",
        "# recall: tp / (tp + fn)\n",
        "recall = recall_score(ytest, ypre)\n",
        "print(str(i)+' Recall: %f' % recall)\n",
        "# f1: 2 tp / (2 tp + fp + fn)\n",
        "f1 = f1_score(ytest, ypre)\n",
        "print(str(i) + ' F1 score: %f' % f1)\n",
        "matrix = confusion_matrix(y_test, y_pre)\n",
        "print(matrix)\n",
        "\n",
        "print(classification_report(y_test,y_pre))"
      ],
      "metadata": {
        "colab": {
          "base_uri": "https://localhost:8080/"
        },
        "id": "sdN-gwWt76pk",
        "outputId": "c1539e0d-8aca-4a26-937f-f933717c7fb3"
      },
      "execution_count": null,
      "outputs": [
        {
          "output_type": "stream",
          "name": "stdout",
          "text": [
            "Iteration 1, loss = 0.69106392\n",
            "Iteration 2, loss = 0.62691266\n",
            "Iteration 3, loss = 0.53738347\n",
            "Iteration 4, loss = 0.39372701\n",
            "Iteration 5, loss = 0.21372440\n",
            "Iteration 6, loss = 0.07641601\n",
            "Iteration 7, loss = 0.02188293\n",
            "Iteration 8, loss = 0.00571182\n",
            "Iteration 9, loss = 0.00158282\n",
            "Iteration 10, loss = 0.00051259\n",
            "Iteration 11, loss = 0.00021340\n",
            "Iteration 12, loss = 0.00012081\n",
            "Iteration 13, loss = 0.00008890\n",
            "Iteration 14, loss = 0.00007647\n",
            "Iteration 15, loss = 0.00007121\n",
            "Iteration 16, loss = 0.00006878\n",
            "Iteration 17, loss = 0.00006753\n",
            "Iteration 18, loss = 0.00006688\n",
            "Iteration 19, loss = 0.00006651\n",
            "Iteration 20, loss = 0.00006631\n",
            "Iteration 21, loss = 0.00006619\n",
            "Iteration 22, loss = 0.00006611\n",
            "Training loss did not improve more than tol=0.000100 for 10 consecutive epochs. Stopping.\n",
            "Training set score: 1.000000\n",
            "Test set score: 1.000000\n",
            "Accuracy: 1.000000\n",
            "1 Precision: 1.000000\n",
            "1 Recall: 1.000000\n",
            "1 F1 score: 1.000000\n",
            "[[28  0]\n",
            " [ 0 33]]\n",
            "              precision    recall  f1-score   support\n",
            "\n",
            "           0       1.00      1.00      1.00        28\n",
            "           1       1.00      1.00      1.00        33\n",
            "\n",
            "    accuracy                           1.00        61\n",
            "   macro avg       1.00      1.00      1.00        61\n",
            "weighted avg       1.00      1.00      1.00        61\n",
            "\n"
          ]
        }
      ]
    }
  ]
}